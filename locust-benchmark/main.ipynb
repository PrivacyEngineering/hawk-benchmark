{
 "cells": [
  {
   "cell_type": "code",
   "execution_count": 74,
   "metadata": {},
   "outputs": [],
   "source": [
    "import pandas as pd\n",
    "import json"
   ]
  },
  {
   "cell_type": "code",
   "execution_count": 75,
   "metadata": {},
   "outputs": [],
   "source": [
    "hist_df = pd.read_csv(\"testresults/1677780915.0_stats_history.csv\")\n",
    "first = int(hist_df[\"Timestamp\"].head(1).values[0])\n",
    "last = int(hist_df[\"Timestamp\"].tail(1).values[0])\n",
    "hist_df.set_index(\"Timestamp\",inplace=True)"
   ]
  },
  {
   "cell_type": "code",
   "execution_count": 76,
   "metadata": {},
   "outputs": [],
   "source": [
    "with open(\"testresults/0_prometheus_total_requests.json\", 'r') as f:\n",
    "  data = json.load(f)[\"data\"][\"result\"][0][\"values\"]\n",
    "df = pd.DataFrame(data).convert_dtypes().set_index(0,drop=True)\n",
    "s = pd.to_numeric(df.loc[first:last][1])"
   ]
  },
  {
   "cell_type": "code",
   "execution_count": 77,
   "metadata": {},
   "outputs": [],
   "source": [
    "s = s.apply(lambda x : x -s.min())"
   ]
  },
  {
   "cell_type": "code",
   "execution_count": 78,
   "metadata": {},
   "outputs": [],
   "source": [
    "hist_df[\"Prometheus_Istio_Requests_Total\"] = s\n",
    "hist_df.to_csv(\"testresults/1677780915.0_stats_history2.csv\")"
   ]
  }
 ],
 "metadata": {
  "kernelspec": {
   "display_name": "env",
   "language": "python",
   "name": "python3"
  },
  "language_info": {
   "codemirror_mode": {
    "name": "ipython",
    "version": 3
   },
   "file_extension": ".py",
   "mimetype": "text/x-python",
   "name": "python",
   "nbconvert_exporter": "python",
   "pygments_lexer": "ipython3",
   "version": "3.10.9"
  },
  "orig_nbformat": 4,
  "vscode": {
   "interpreter": {
    "hash": "27df774dfd8c2971d5bd47001ab72d9c6bb27649ad7af24e4a0de638475ea265"
   }
  }
 },
 "nbformat": 4,
 "nbformat_minor": 2
}
